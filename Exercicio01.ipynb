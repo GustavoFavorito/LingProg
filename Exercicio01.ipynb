{
 "cells": [
  {
   "cell_type": "markdown",
   "metadata": {},
   "source": [
    "#### 1 Faça um Programa que peça o raio de um círculo, calcule e mostre sua área."
   ]
  },
  {
   "cell_type": "code",
   "execution_count": 11,
   "metadata": {},
   "outputs": [
    {
     "name": "stdout",
     "output_type": "stream",
     "text": [
      "Insira raio do circulo12\n",
      "452.3893421169302\n"
     ]
    }
   ],
   "source": [
    "import math\n",
    "\n",
    "raio = float(input(\"Insira raio do circulo\"))\n",
    "area = math.pi * raio**2\n",
    "print (area)"
   ]
  },
  {
   "cell_type": "markdown",
   "metadata": {},
   "source": [
    "#### 2 Faça um Programa que calcule a área de um quadrado, em seguida mostre o dobro desta área para o usuário."
   ]
  },
  {
   "cell_type": "code",
   "execution_count": 12,
   "metadata": {},
   "outputs": [
    {
     "name": "stdout",
     "output_type": "stream",
     "text": [
      "Insira o lado do quadrado4\n",
      "32\n"
     ]
    }
   ],
   "source": [
    "import math\n",
    "\n",
    "lado = float(input(\"Insira o lado do quadrado\"))\n",
    "area = lado**2\n",
    "print (area*2)"
   ]
  },
  {
   "cell_type": "markdown",
   "metadata": {},
   "source": [
    "#### 3 Faça um Programa que pergunte quanto você ganha por hora e o número de horas trabalhadas no mês. Calcule e mostre o total do seu salário no referido mês."
   ]
  },
  {
   "cell_type": "code",
   "execution_count": 13,
   "metadata": {},
   "outputs": [
    {
     "name": "stdout",
     "output_type": "stream",
     "text": [
      "Informe o ganho/hora14\n",
      "Informe a quantidade de horas trabalhadas30\n",
      "420.0\n"
     ]
    }
   ],
   "source": [
    "ganho_hora = float(input(\"Informe o ganho/hora\"))\n",
    "horas_trab = int(input(\"Informe a quantidade de horas trabalhadas\"))\n",
    "print (ganho_hora*horas_trab)"
   ]
  },
  {
   "cell_type": "markdown",
   "metadata": {},
   "source": [
    "#### 4 Faça um Programa que peça a temperatura em graus Farenheit, transforme e mostre a temperatura em graus Celsius. C = (5 * (F-32) / 9)"
   ]
  },
  {
   "cell_type": "code",
   "execution_count": 22,
   "metadata": {},
   "outputs": [
    {
     "name": "stdout",
     "output_type": "stream",
     "text": [
      "Informe a temperatura em Farenheit75\n",
      "Farenheit: 75.00ºF \n",
      " Celsius: 23.89ºC\n"
     ]
    }
   ],
   "source": [
    "temperatura_f = float(input(\"Informe a temperatura em Farenheit\"))\n",
    "temperatura_c = 5*(temperatura_f-32)/9\n",
    "print (\"Farenheit: %5.2fºF \\nCelsius: %5.2fºC\" % (temperatura_f, temperatura_c))"
   ]
  },
  {
   "cell_type": "markdown",
   "metadata": {},
   "source": [
    "#### 5 Faça um Programa que peça a temperatura em graus Celsius, transforme e mostre em graus Farenheit."
   ]
  },
  {
   "cell_type": "code",
   "execution_count": 24,
   "metadata": {},
   "outputs": [
    {
     "name": "stdout",
     "output_type": "stream",
     "text": [
      "Informe a temperatura em Celsius525252\n",
      "Celsius: 525252.00ºF \n",
      " Farenheit: 945485.60ºC\n"
     ]
    }
   ],
   "source": [
    "temperatura_c = float(input(\"Informe a temperatura em Celsius\"))\n",
    "temperatura_f = 1.8 * temperatura_c + 32\n",
    "print (\"Celsius: %5.2fºF \\nFarenheit: %5.2fºC\" % (temperatura_c, temperatura_f))"
   ]
  },
  {
   "cell_type": "markdown",
   "metadata": {},
   "source": [
    "#### 6 Faça um Programa que peça 2 números inteiros e um número real. Calcule e\n",
    "#### mostre:\n",
    "#### - o produto do dobro do primeiro com metade do segundo .\n",
    "#### - a soma do triplo do primeiro com o terceiro.\n",
    "#### - o terceiro elevado ao cubo."
   ]
  },
  {
   "cell_type": "code",
   "execution_count": 27,
   "metadata": {},
   "outputs": [
    {
     "name": "stdout",
     "output_type": "stream",
     "text": [
      "Insira um numero inteiro 1\n",
      "Insira outro numero inteiro 1\n",
      "Insira um numero real5.5\n",
      "1.0\n",
      "8.5\n",
      "166.375\n"
     ]
    }
   ],
   "source": [
    "numero1 = int(input(\"Insira um numero inteiro \"))\n",
    "numero2 = int(input(\"Insira outro numero inteiro \"))\n",
    "numero3 = float(input(\"Insira um numero real\"))\n",
    "\n",
    "# o produto do dobro do primeiro com metade do segundo\n",
    "print ((numero1*2) * (numero2/2))\n",
    "\n",
    "#a soma do triplo do primeiro com o terceiro\n",
    "print ((numero1*3) + numero3)\n",
    "\n",
    "#o terceiro elevado ao cubo\n",
    "print (numero3**3)"
   ]
  },
  {
   "cell_type": "markdown",
   "metadata": {},
   "source": [
    "#### 7 João Papo-de-Pescador, homem de bem, comprou um microcomputador para controlar o rendimento diário de seu trabalho. Toda vez que ele traz um peso de peixes maior que o estabelecido pelo regulamento de pesca do estado de São Paulo (50 quilos) deve pagar uma multa de RS 4,00 por quilo excedente. João precisa que você faça um programa que leia a variável peso (peso de peixes) e verifique se háexcesso. Se houver, gravar na variável excesso e na variável multa o valor da multa que João deverá pagar. Caso contrário mostrar tais variáveis com o conteúdo ZERO"
   ]
  },
  {
   "cell_type": "code",
   "execution_count": 30,
   "metadata": {},
   "outputs": [
    {
     "name": "stdout",
     "output_type": "stream",
     "text": [
      "Insira o peso de peixes105\n",
      "Peso dos peixes: 105.00\n",
      "Excesso: 55.00\n",
      "Multa: 220.00\n"
     ]
    }
   ],
   "source": [
    "peso = float(input(\"Insira o peso de peixes\"))\n",
    "excesso = 0.00\n",
    "multa = 0.00\n",
    "\n",
    "if (peso > 50):\n",
    "    excesso = peso - 50\n",
    "multa = excesso * 4.0\n",
    "\n",
    "print (\"Peso dos peixes: %0.2f\\nExcesso: %0.2f\\nMulta: %0.2f\" %(peso, excesso, multa))"
   ]
  },
  {
   "cell_type": "markdown",
   "metadata": {},
   "source": [
    "#### 8 Faça um Programa que pergunte quanto você ganha por hora e o número de horas\n",
    "#### trabalhadas no mês. Calcule e mostre o total do seu salário no referido mês,\n",
    "#### sabendo-se que são descontados 11% para o Imposto de Renda, 8% para o INSS e 5%\n",
    "#### para o sindicato, faça um programa que nos dê:\n",
    "#### - salário bruto.\n",
    "#### - quanto pagou ao INSS.\n",
    "#### - quanto pagou ao sindicato.\n",
    "#### - o salário líquido.\n",
    "#### - calcule os descontos e o salário líquido, conforme a tabela abaixo:\n",
    "#### + Salário Bruto : RS\n",
    "#### -IR (11%) : RS\n",
    "#### - INSS (8%) : RS\n",
    "#### - Sindicato ( 5%) : RS\n",
    "#### = Salário Liquido : RS\n",
    "#### Obs.: Salário Bruto - Descontos = Salário Líquido."
   ]
  },
  {
   "cell_type": "code",
   "execution_count": 37,
   "metadata": {},
   "outputs": [
    {
     "name": "stdout",
     "output_type": "stream",
     "text": [
      "Insira o ganho/hora12\n",
      "Insira o numero de horas trabalhadas120\n",
      "+ Salario bruto: R$1440.00\n",
      "- IR: R$158.40\n",
      "- INSS: R$115.20\n",
      "- Sindicato: R$72.00\n",
      "= Salario liquido: R$1094.40\n"
     ]
    }
   ],
   "source": [
    "ganho_hora = float(input(\"Insira o ganho/hora\"))\n",
    "horas = int(input(\"Insira o numero de horas trabalhadas\"))\n",
    "salario_bruto = ganho_hora*horas\n",
    "imposto_renda = salario_bruto*0.11\n",
    "inss = salario_bruto*0.08\n",
    "sindicato = salario_bruto*0.05\n",
    "salario_liquido = salario_bruto - inss - sindicato - imposto_renda\n",
    "\n",
    "print (\"+ Salario bruto: R$%.2f\" % salario_bruto)\n",
    "print (\"- IR: R$%.2f\" % imposto_renda)\n",
    "print (\"- INSS: R$%.2f\" % inss)\n",
    "print (\"- Sindicato: R$%.2f\" % sindicato)\n",
    "print (\"= Salario liquido: R$%.2f\" % salario_liquido)"
   ]
  },
  {
   "cell_type": "markdown",
   "metadata": {},
   "source": [
    "#### 9 Faça um programa que leia 2 strings e informe o conteúdo delas seguido do seu\n",
    "#### comprimento. Informe também se as duas strings possuem o mesmo comprimento e\n",
    "#### são iguais ou diferentes no conteúdo.\n",
    "#### Exemplo:\n",
    "#### String 1: Brasil Hexa 2018\n",
    "#### String 2: Brasil! Hexa 2018!\n",
    "#### Tamanho de \"Brasil Hexa 2018\": 16 caracteres\n",
    "#### Tamanho de \"Brasil! Hexa 2018!\": 18 caracteres\n",
    "#### As duas strings são de tamanhos diferentes.\n",
    "#### As duas strings possuem conteúdo diferente."
   ]
  },
  {
   "cell_type": "code",
   "execution_count": 54,
   "metadata": {},
   "outputs": [
    {
     "name": "stdout",
     "output_type": "stream",
     "text": [
      "Insira uma string: arroz\n",
      "Insira outra string: arroz\n",
      "String 1: arroz\n",
      "String 2: arroz\n",
      "Tamanho de \"arroz\": 5 caracteres\n",
      "Tamanho de \"arroz\": 5 caracteres\n",
      "As duas strings são de tamanhos iguais\n",
      "As duas strings possuem conteudo igual\n"
     ]
    }
   ],
   "source": [
    "string1 = input(\"Insira uma string: \")\n",
    "string2 = input(\"Insira outra string: \")\n",
    "\n",
    "print (\"String 1: \" + string1)\n",
    "print (\"String 2: \" + string2)\n",
    "print (\"Tamanho de \\\"\" + string1 + \"\\\": \" + str(len(string1)) + \" caracteres\")\n",
    "print (\"Tamanho de \\\"\" + string2 + \"\\\": \" + str(len(string2)) + \" caracteres\")\n",
    "\n",
    "if len(string1) != len(string2):\n",
    "    print (\"As duas strings são de tamanhos diferentes\")\n",
    "else:\n",
    "    print (\"As duas strings são de tamanhos iguais\")\n",
    "\n",
    "if string1 == string2:\n",
    "    print (\"As duas strings possuem conteudo igual\")\n",
    "else:\n",
    "    print (\"As duas strings possuem conteudo diferente\")"
   ]
  },
  {
   "cell_type": "markdown",
   "metadata": {},
   "source": [
    "#### 10 Faça um programa que permita ao usuário digitar o seu nome e em seguida mostre o nome do usuário de trás para frente utilizando somente letras maiúsculas. Dica: lembre−se que ao informar o nome o usuário pode digitar letras maiúsculas ou minúsculas. Observação: não use loops."
   ]
  },
  {
   "cell_type": "code",
   "execution_count": 58,
   "metadata": {},
   "outputs": [
    {
     "name": "stdout",
     "output_type": "stream",
     "text": [
      "Insira seu nomeGustavO\n",
      "OVATSUG\n"
     ]
    }
   ],
   "source": [
    "nome = input(\"Insira seu nome\")\n",
    "print (nome.upper()[::-1])"
   ]
  },
  {
   "cell_type": "markdown",
   "metadata": {},
   "source": [
    "#### 11 Faça um programa que solicite a data de nascimento (dd/mm/aaaa) do usuário e imprima a data com o nome do mês por extenso. Data de Nascimento: 29/10/1973 Você nasceu em 29 de Outubro de 1973. Obs.: Não use desvio condicional nem loops."
   ]
  },
  {
   "cell_type": "code",
   "execution_count": 63,
   "metadata": {},
   "outputs": [
    {
     "name": "stdout",
     "output_type": "stream",
     "text": [
      "informe a data (dd/mm/aaaa): 27/09/1998\n",
      "27 de setembro de 1998\n"
     ]
    }
   ],
   "source": [
    "meses = [\"janeiro\",\n",
    "         \"fevereiro\",\n",
    "         \"março\",\n",
    "         \"abril\",\n",
    "         \"maio\",\n",
    "         \"junho\",\n",
    "         \"julho\",\n",
    "         \"agosto\",\n",
    "         \"setembro\",\n",
    "         \"outubro\",\n",
    "         \"novembro\",\n",
    "         \"dezembro\"]\n",
    "\n",
    "data = input(\"informe a data (dd/mm/aaaa): \")\n",
    "\n",
    "\n",
    "print (data.split(\"/\")[0],\n",
    "       \"de\",\n",
    "       meses[(int(data.split(\"/\")[1])-1)],\n",
    "       \"de\",\n",
    "       data.split(\"/\")[2])"
   ]
  },
  {
   "cell_type": "markdown",
   "metadata": {},
   "source": [
    "#### 12 Leet é uma forma de se escrever o alfabeto latino usando outros símbolos em lugar das letras, como números por exemplo. A própria palavra leet admite muitas variações, como l33t ou 1337. O uso do leet reflete uma subcultura relacionada ao mundo dos jogos de computador e internet, sendo muito usada para confundir os iniciantes e afirmar-se como parte de um grupo. Pesquise sobre as principais formas de traduzir as letras. Depois, faça um programa que peça uma texto e transforme-o para a grafia leet speak. Desafio: não use loops nem desvios condicionais."
   ]
  },
  {
   "cell_type": "code",
   "execution_count": 66,
   "metadata": {},
   "outputs": [
    {
     "name": "stdout",
     "output_type": "stream",
     "text": [
      "Enter some text: Hello World\n",
      "H3110 W0r1d\n"
     ]
    }
   ],
   "source": [
    "string = input('Enter some text: ')\n",
    "\n",
    "for char in string:\n",
    "\tif char == 'a':\n",
    "\t\tstring = string.replace('a','4')\n",
    "\telif char == 'b':\n",
    "\t\tstring = string.replace('b','8')\n",
    "\telif char == 'e':\n",
    "\t\tstring = string.replace('e','3')\n",
    "\telif char == 'l':\n",
    "\t\tstring = string.replace('l','1')\n",
    "\telif char == 'o':\n",
    "\t\tstring = string.replace('o','0')\n",
    "\telif char == 's': \n",
    "\t\tstring = string.replace('s','5')\n",
    "\telif char == 't':\n",
    "\t\tstring = string.replace('t','7')\n",
    "\telse:\n",
    "\t\tpass\n",
    "\n",
    "print(string)"
   ]
  }
 ],
 "metadata": {
  "kernelspec": {
   "display_name": "Python 3",
   "language": "python",
   "name": "python3"
  },
  "language_info": {
   "codemirror_mode": {
    "name": "ipython",
    "version": 3
   },
   "file_extension": ".py",
   "mimetype": "text/x-python",
   "name": "python",
   "nbconvert_exporter": "python",
   "pygments_lexer": "ipython3",
   "version": "3.7.1"
  }
 },
 "nbformat": 4,
 "nbformat_minor": 2
}
