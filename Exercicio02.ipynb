{
 "cells": [
  {
   "cell_type": "markdown",
   "metadata": {},
   "source": [
    "1 Crie um programa que recebe uma lista de números e\n",
    "- retorne o maior elemento\n",
    "- retorne a soma dos elementos\n",
    "- retorne o número de ocorrências do primeiro elemento da lista\n",
    "- retorne a média dos elementos\n",
    "- retorne o valor mais próximo da média dos elementos\n",
    "- retorne a soma dos elementos com valor negativo\n",
    "- retorne a quantidade de vizinhos iguais"
   ]
  },
  {
   "cell_type": "code",
   "execution_count": 31,
   "metadata": {},
   "outputs": [
    {
     "name": "stdout",
     "output_type": "stream",
     "text": [
      "Maior elemento: 15\n",
      "Soma dos elementos 50\n",
      "Numero de ocorrencias do primeiro elemento: 3\n",
      "Media dos elementos: 5.56\n",
      "Soma dos elementos com valor negativo: -50\n"
     ]
    }
   ],
   "source": [
    "list = [1, 5, 3, 10, 12, 2, 1, 15, 1]\n",
    "print(\"Maior elemento: \" + str(max(list)))\n",
    "print(\"Soma dos elementos \" + str(sum(list)))\n",
    "print(\"Numero de ocorrencias do primeiro elemento: \" + str(list.count(1)))\n",
    "print(\"Media dos elementos: %.2f\" % (sum(list)/len(list)))\n",
    "print(\"Soma dos elementos com valor negativo: \" + str(sum(list)*(-1)))"
   ]
  },
  {
   "cell_type": "markdown",
   "metadata": {},
   "source": [
    "#### 2 Faça um programa que receba duas listas e retorne True se são iguais ou False caso contrario. Duas listas são iguais se possuem os mesmos valores e na mesma ordem"
   ]
  },
  {
   "cell_type": "code",
   "execution_count": 44,
   "metadata": {},
   "outputs": [
    {
     "name": "stdout",
     "output_type": "stream",
     "text": [
      "True\n",
      "False\n",
      "False\n"
     ]
    }
   ],
   "source": [
    "lista1 = ['a', 'b', 'c']\n",
    "lista2 = ['a', 'b', 'c']\n",
    "# listas para teste\n",
    "lista3 = ['c', 'b', 'a']\n",
    "lista4 = ['a', 'b', 'd']\n",
    "\n",
    "if lista1 == lista2:\n",
    "    print(True)\n",
    "else:\n",
    "    print(False)\n",
    "\n",
    "#teste\n",
    "if lista1 == lista3:\n",
    "    print(True)\n",
    "else:\n",
    "    print(False)\n",
    "#teste\n",
    "if lista1 == lista4:\n",
    "    print(True)\n",
    "else:\n",
    "    print(False)"
   ]
  },
  {
   "cell_type": "markdown",
   "metadata": {},
   "source": [
    "#### 3 Faça um programa que receba duas listas e retorne True se têm os mesmos elementos ou False caso contrário \n",
    "#### Duas listas possuem os mesmos elementos quando são compostas pelos mesmos valores, mas não obrigatoriamente na mesma ordem."
   ]
  },
  {
   "cell_type": "code",
   "execution_count": 7,
   "metadata": {},
   "outputs": [
    {
     "data": {
      "text/plain": [
       "True"
      ]
     },
     "execution_count": 7,
     "metadata": {},
     "output_type": "execute_result"
    }
   ],
   "source": [
    "lista1 = ['a', 'b', 'c']\n",
    "lista2 = ['c', 'b', 'a']\n",
    "lista1.sort()\n",
    "lista2.sort()\n",
    "\n",
    "def mesmos_elementos(lista1, lista2):\n",
    "    if len(lista1) == len(lista2):\n",
    "        for i in range(0, len(lista1)):\n",
    "            if lista1[i] != lista2[i]:\n",
    "                return False\n",
    "        return True\n",
    "    return False\n",
    "\n",
    "mesmos_elementos(lista1, lista2)"
   ]
  },
  {
   "cell_type": "markdown",
   "metadata": {},
   "source": [
    "4 Faça um programa que percorre uma lista com o seguinte formato: [['Brasil',\n",
    "'Italia', [10, 9]], ['Brasil', 'Espanha', [5, 7]], ['Italia', 'Espanha', [7,8]]]. Essa lista indica o\n",
    "número de faltas que cada time fez em cada jogo. Na lista acima, no jogo entre Brasil\n",
    "e Itália, o Brasil fez 10 faltas e a Itália fez 9.\n",
    "O programa deve imprimir na tela:\n",
    "- o total de faltas do campeonato\n",
    "- o time que fez mais faltas\n",
    "- o time que fez menos faltas"
   ]
  },
  {
   "cell_type": "code",
   "execution_count": 18,
   "metadata": {},
   "outputs": [
    {
     "name": "stdout",
     "output_type": "stream",
     "text": [
      " Total de falta =  46  \n",
      " Maior quantidade de faltas =  Brasil  \n",
      " Menor quantidade de faltas =  Brasil\n"
     ]
    }
   ],
   "source": [
    "time = [['Brasil', 'Italia', [10, 9]], ['Brasil', 'Espanha', [5, 7]], ['Italia', 'Espanha', [7,8]]]\n",
    "total_faltas = 0\n",
    "\n",
    "def menos_faltas (time):\n",
    "    menor = time[0][2][0]\n",
    "    for i in range(len(time)):\n",
    "        for j in range(2):\n",
    "             if time[i][2][j]<menor:\n",
    "                 menor = time[i][2][j]\n",
    "                 time_menor = time[i][j]\n",
    "    return time_menor\n",
    "\n",
    "def mais_faltas (time):\n",
    "    time_maior = time[0][0]\n",
    "    maior = time[0][2][0]\n",
    "    for i in range(len(time)):\n",
    "        for j in range(2):\n",
    "             if time[i][2][j]>maior:\n",
    "                 maior = time[i][2][j]\n",
    "                 time_maior = time[i][j]\n",
    "    return time_maior\n",
    "\n",
    "def total_faltas (time):\n",
    "    soma = 0\n",
    "    for i in range(len(time)):\n",
    "        for j in range(2):\n",
    "            soma += time[i][2][j]\n",
    "    return soma\n",
    "\n",
    "print(' Total de falta = ',total_faltas(time),' \\n Maior quantidade de faltas = ',mais_faltas(time),' \\n Menor quantidade de faltas = ',menos_faltas(time))"
   ]
  },
  {
   "cell_type": "markdown",
   "metadata": {},
   "source": [
    "#### 5 Escreva um programa que conta a quantidade de vogais em uma string e armazena tal quantidade em um dicionário, onde a chave é a vogal considerada."
   ]
  },
  {
   "cell_type": "code",
   "execution_count": 11,
   "metadata": {},
   "outputs": [
    {
     "name": "stdout",
     "output_type": "stream",
     "text": [
      "1\n",
      "2\n",
      "3\n",
      "4\n",
      "5\n"
     ]
    }
   ],
   "source": [
    "string = 'aeeiiioooouuuuu'\n",
    "string = string.lower()\n",
    "vogais = 'aeiou'\n",
    "dicionario =  {i: string.count(i) for i in vogais if i in string}\n",
    "\n",
    "print(dicionario['a']) \n",
    "print(dicionario['e']) \n",
    "print(dicionario['i']) \n",
    "print(dicionario['o']) \n",
    "print(dicionario['u'])"
   ]
  },
  {
   "cell_type": "markdown",
   "metadata": {},
   "source": [
    "#### 6 Escreva um programa que lê̂ duas notas de vários alunos e armazena tais notas em um dicionário, onde a chave é o nome do aluno. A entrada de dados deve terminar quando for lida uma string vazia como nome. Escreva uma função que retorna a média do aluno, dado seu nome"
   ]
  },
  {
   "cell_type": "code",
   "execution_count": null,
   "metadata": {},
   "outputs": [
    {
     "name": "stdout",
     "output_type": "stream",
     "text": [
      "Insira o nome de um aluno: \n",
      "{}\n"
     ]
    }
   ],
   "source": [
    "notas = {}\n",
    "media = 0\n",
    "nome = input(\"Insira o nome de um aluno: \")\n",
    "\n",
    "while nome != \"\":\n",
    "    nota1 = float(input(\"Insira a primeira nota de \" + nome + \": \"))\n",
    "    nota2 = float(input(\"Insira a segunda nota de \" + nome + \": \"))\n",
    "    notas[nome] = [nota1, nota2]\n",
    "    \n",
    "    nome = input(\"Insira o nome de outro aluno: \")\n",
    "\n",
    "print(notas)\n",
    "\n",
    "def mostra_media(nome):\n",
    "    return (notas[nome][0] + notas[nome][1])/2\n",
    "\n",
    "mostra_media(input(\"Insira o nome do aluno para ver a média: \"))"
   ]
  },
  {
   "cell_type": "markdown",
   "metadata": {},
   "source": [
    "#### 7 Uma pista de Kart permite 10 voltas para cada um de 6 corredores. Escreva um programa que leia todos os tempos em segundos e os guarde em um dicionário, onde a chave é o nome do corredor. Ao final diga de quem foi a melhor volta da prova e em que volta; e ainda a classificação final em ordem (1 o o campeão). O campeão é o que tem a menor média de tempos"
   ]
  },
  {
   "cell_type": "code",
   "execution_count": 28,
   "metadata": {},
   "outputs": [
    {
     "name": "stdout",
     "output_type": "stream",
     "text": [
      "1º lugar: ('Guilherme', 42.1) - ('Runandir', 42.8) segs.\n"
     ]
    }
   ],
   "source": [
    "import operator\n",
    "# corredores = {}\n",
    "# nome = input(\"Insira o nome de um corredor: \")\n",
    "# i = 1\n",
    "\n",
    "# while i <= 6 and nome != \"\":\n",
    "#     corredores[nome] = [float(input(\"Insira o primeiro tempo de \" + nome + \": \")),\n",
    "#                         float(input(\"Insira o segundo tempo de \" + nome + \": \")),\n",
    "#                         float(input(\"Insira o terceiro tempo de \" + nome + \": \")),\n",
    "#                         float(input(\"Insira o quarto tempo de \" + nome + \": \")),\n",
    "#                         float(input(\"Insira o quinto tempo de \" + nome + \": \")),\n",
    "#                         float(input(\"Insira o sexto tempo de \" + nome + \": \")),\n",
    "#                         float(input(\"Insira o sétimo tempo de \" + nome + \": \")),\n",
    "#                         float(input(\"Insira o oitavo tempo de \" + nome + \": \")),\n",
    "#                         float(input(\"Insira o nono tempo de \" + nome + \": \")),\n",
    "#                         float(input(\"Insira o decimo tempo de \" + nome + \": \"))]\n",
    "#     nome = input(\"Insira o nome de um corredor: \")\n",
    "#     i += 1\n",
    "\n",
    "# print(corredores)\n",
    "\n",
    "corredores = {'Gustavo':[50, 45, 57, 58, 68, 98, 97, 78, 12, 50],\n",
    "              'Amanda':[45, 56, 89, 54, 35, 69, 89, 75, 57, 51],\n",
    "              'Guilherme':[57, 57, 58, 56, 56, 23, 32, 25, 12, 45],\n",
    "              'Ronaldo':[50, 45, 57, 58, 68, 98, 97, 78, 12, 41],\n",
    "              'Runandir':[57, 57, 58, 56, 56, 23, 32, 25, 12, 52],\n",
    "              'Vitor':[50, 45, 57, 58, 68, 98, 97, 56, 12, 41]}\n",
    "\n",
    "melhor_volta = corredores['Gustavo'][0]\n",
    "volta = 0\n",
    "nome = \"\"\n",
    "medias = corredores\n",
    "\n",
    "for chave in corredores:\n",
    "    soma = 0\n",
    "    for num in corredores[chave]:\n",
    "        if num < melhor_volta:\n",
    "            melhor_volta = num\n",
    "            nome = chave\n",
    "        soma += num\n",
    "    medias[chave] = soma / 10\n",
    "\n",
    "sort = sorted(medias.items(), key=operator.itemgetter(1)),\n",
    "for i in range(0, 1):\n",
    "    print(\"%sº lugar: %s - %s segs.\" % (i+1, sort[i][0], sort[i][1]))"
   ]
  },
  {
   "cell_type": "markdown",
   "metadata": {},
   "source": [
    "8 Escreva um programa para armazenar uma agenda de telefones em um dicionário.\n",
    "Cada pessoa pode ter um ou mais telefones e a chave do dicionário é o nome da\n",
    "pessoa. Seu programa deve ter as seguintes funções:\n",
    "- incluirNovoNome – essa função acrescenta um novo nome na agenda, com um ou\n",
    "mais telefones. Ela deve receber como argumentos o nome e os telefones.\n",
    "- incluirTelefone – essa função acrescenta um telefone em um nome existente na\n",
    "agenda. Caso o nome não exista na agenda, você̂ deve perguntar se a pessoa deseja\n",
    "inclui-lo. Caso a resposta seja afirmativa, use a função anterior para incluir o novo\n",
    "nome.\n",
    "- excluirTelefone – essa função exclui um telefone de uma pessoa que já está na\n",
    "agenda. Se a pessoa tiver apenas um telefone, ela deve ser excluída da agenda.\n",
    "- excluirNome – essa função exclui uma pessoa da agenda.- consultarTelefone – essa função retorna os telefones de uma pessoa na agenda."
   ]
  },
  {
   "cell_type": "code",
   "execution_count": 36,
   "metadata": {},
   "outputs": [
    {
     "name": "stdout",
     "output_type": "stream",
     "text": [
      "\n",
      "Escolha uma opção: \n",
      "1 - Incluir Novo Nome\n",
      "2 - Incluir Telefone\n",
      "3 - Excluir Telefone\n",
      "4 - Consultar Agenda\n",
      "0 - Encerrar Programa\n",
      "0\n"
     ]
    }
   ],
   "source": [
    "agenda = {}\n",
    "\n",
    "def incluirNovoNome(nome, telefones):\n",
    "    global agenda\n",
    "    agenda[nome] = telefones\n",
    "\n",
    "def incluirTelefone(nome, telefone):\n",
    "    global agenda\n",
    "    if nome in agenda.keys():\n",
    "        agenda[nome].append(telefone)\n",
    "    else:\n",
    "        if input(\"Essa pessoa não existe, incluir ela na agenda (s/n)? \") == \"s\":\n",
    "            telefones = [telefone]\n",
    "            incluirNovoNome(nome, telefones)\n",
    "\n",
    "def excluirTelefone(nome, telefone):\n",
    "    global agenda\n",
    "    if nome in agenda.keys():\n",
    "        if len(agenda[nome]) == 1:\n",
    "            del agenda[nome]\n",
    "        else:\n",
    "            for num in range(0, len(agenda[nome]) - 1):\n",
    "                if telefone == agenda[nome][num]:\n",
    "                    agenda[nome].pop(num)\n",
    "\n",
    "def consultarTelefone(nome):\n",
    "    global agenda\n",
    "    if nome in agenda.keys():\n",
    "        print(agenda[nome])\n",
    "\n",
    "opcao = -1\n",
    "while opcao != 0:\n",
    "    opcao = int(input(\"\\nEscolha uma opção: \\n1 - Incluir Novo Nome\\n2 - Incluir Telefone\\n3 - Excluir Telefone\\n4 - Consultar Agenda\\n0 - Encerrar Programa\\n\"))\n",
    "\n",
    "    # INSERIR NOVO NOME\n",
    "    if opcao == 1:\n",
    "        nome = input(\"Insira o nome da pessoa: \")\n",
    "        telefones = []\n",
    "        telefones.append(int(input(\"Insira um telefone da pessoa: \"))),\n",
    "        telefone = -1\n",
    "        while telefone != 0:\n",
    "            telefone = int(input(\"Inserir outro telefone (ou digite 0 para parar): \"))\n",
    "            if telefone != 0:\n",
    "                telefones.append(telefone)\n",
    "        incluirNovoNome(nome, telefones)\n",
    "    # INCLUIR TELEFONE,\n",
    "    elif opcao == 2:\n",
    "        nome = input(\"Insira o nome da pessoa: \")\n",
    "        telefone = int(input(\"Insira um novo telefone da pessoa: \"))\n",
    "        incluirTelefone(nome, telefone)\n",
    "    # EXCLUIR TELEFONE,\n",
    "    elif opcao == 3:\n",
    "        nome = input(\"Insira o nome da pessoa: \")\n",
    "        telefone = int(input(\"Insira o telefone da pessoa a qual deseja excluir: \"))\n",
    "        excluirTelefone(nome, telefone)\n",
    "    elif opcao == 4:\n",
    "        consultarTelefone(input(\"Insira o nome da pessoa: \"))"
   ]
  },
  {
   "cell_type": "markdown",
   "metadata": {},
   "source": [
    "#### 9 Faça um programa que leia um arquivo texto contendo uma lista de endereços IP e\n",
    "#### gere um outro arquivo, contendo um relatório dos endereços IP válidos e inválidos.\n",
    "#### O arquivo de entrada possui o seguinte formato:\n",
    "###### 200.135.80.9\n",
    "###### 192.168.1.1\n",
    "###### 8.35.67.74\n",
    "###### 257.32.4.5\n",
    "###### 85.345.1.2\n",
    "###### 1.2.3.4\n",
    "###### 9.8.234.5\n",
    "###### 192.168.0.256\n",
    "#### O arquivo de saída possui o seguinte formato:\n",
    "#### [Endereços válidos:]\n",
    "###### 200.135.80.9\n",
    "###### 192.168.1.1\n",
    "###### 8.35.67.74\n",
    "###### 1.2.3.4\n",
    "#### [Endereços inválidos:]\n",
    "###### 257.32.4.5\n",
    "###### 85.345.1.2\n",
    "###### 9.8.234.5\n",
    "###### 192.168.0.256"
   ]
  },
  {
   "cell_type": "code",
   "execution_count": 2,
   "metadata": {},
   "outputs": [],
   "source": [
    "import socket\n",
    "\n",
    "ipsValidos = []\n",
    "ipsInvalidos = []\n",
    "\n",
    "ips = open(\"ips.txt\", \"w+\")\n",
    "for ip in ips:\n",
    "    try:\n",
    "        socket.inet_aton(ip)\n",
    "        # Validos\n",
    "        ipsValidos.append(ip)\n",
    "    except socket.error:\n",
    "        # Invalidos\n",
    "        ipsInvalidos.append(ip)\n",
    "        \n",
    "ips.close()\n",
    "\n",
    "saida = open(\"ipsvalidados.txt\", \"w+\")\n",
    "\n",
    "saida.write(\"[Endereços válidos:]\\n\")\n",
    "for ip in ipsValidos:\n",
    "    saida.write(ip)\n",
    "\n",
    "saida.write(\"[Endereços inválidos:]\\n\")\n",
    "for ip in ipsInvalidos:\n",
    "    saida.write(ip)\n",
    "    \n",
    "saida.close()"
   ]
  },
  {
   "cell_type": "markdown",
   "metadata": {},
   "source": [
    "#### 10. A ACME Inc., uma empresa de 500 funcionários, está tendo problemas de espaço em disco no seu servidor de arquivos. Para tentar resolver este problema, o Administrador de Rede precisa saber qual o espaço ocupado pelos usuários, e identificar os usuários com maior espaço ocupado. Através de um programa, baixado da Internet, ele conseguiu gerar o seguinte arquivo, chamado \"usuarios.txt\":\n",
    "#### O arquivo de entrada deve ser lido uma única vez, e os dados armazenados em memória, caso sejam necessários, de forma a agilizar a execução do programa. A conversão da espaço ocupado em disco, de bytes para megabytes deverá ser feita através de uma função separada, que será chamada pelo programa principal. O cálculo do percentual de uso também deverá ser feito através de uma função, que será chamada pelo programa principal."
   ]
  },
  {
   "cell_type": "code",
   "execution_count": 15,
   "metadata": {},
   "outputs": [],
   "source": [
    "def paraMb(tamanho):\n",
    "    return float(tamanho / (1024*1024))\n",
    "\n",
    "def usoMemoria(tamanho, total):\n",
    "    return float(tamanho / total) * 100\n",
    "    \n",
    "dic = {}\n",
    "total = 0\n",
    "usuarios = open(\"usuarios.txt\")\n",
    "\n",
    "for usuario in usuarios:\n",
    "    nome, memoria = usuario.split(\" \")\n",
    "    dic[nome] = int(memoria)\n",
    "    total += int(memoria)\n",
    "usuarios.close()\n",
    "media = total / len(dic.keys())\n",
    "\n",
    "relatorio = open(\"relatório.txt\", \"w+\")\n",
    "relatorio.write(\"ACME Inc.              4 Uso do espaço em disco pelos usuários.\\n\")\n",
    "relatorio.write(\"--------------------------------------------------------------\\n\")\n",
    "relatorio.write(\"Nr.\\tUsuário \\tEspaço utilizado\\t% do uso\\n\")\n",
    "    \n",
    "nr = 1\n",
    "for usuario in dic:\n",
    "    relatorio.write(str(nr) + \"\\t\" + usuario + \"\\t\" + \"{0:.2f}\".format(paraMb(dic[usuario])) + \" MB\\t\\t\" + \"{0:.2f}\".format(usoMemoria(dic[usuario], total)) + \"%\\n\")\n",
    "    nr += 1\n",
    "                        \n",
    "\n",
    "relatorio.write(\"Espaço total ocupado: \" + \"{0:.2f}\".format(paraMb(total)) + \"\\n\")\n",
    "relatorio.write(\"Espaço médio ocupado: \" + \"{0:.2f}\".format(paraMb(media)))\n",
    "                \n",
    "relatorio.close()"
   ]
  }
 ],
 "metadata": {
  "kernelspec": {
   "display_name": "Python 3",
   "language": "python",
   "name": "python3"
  },
  "language_info": {
   "codemirror_mode": {
    "name": "ipython",
    "version": 3
   },
   "file_extension": ".py",
   "mimetype": "text/x-python",
   "name": "python",
   "nbconvert_exporter": "python",
   "pygments_lexer": "ipython3",
   "version": "3.7.1"
  }
 },
 "nbformat": 4,
 "nbformat_minor": 2
}
