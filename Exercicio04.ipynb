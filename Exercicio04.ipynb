{
 "cells": [
  {
   "cell_type": "markdown",
   "metadata": {},
   "source": [
    "1 Menor de dois pares: Escreva uma função que retorne o menor de dois números\n",
    "dados se ambos os números forem pares, mas retorna o maior se um dos dois for\n",
    "ímpar. Exemplo:\n",
    "menor_de_dois_pares(2,4) --> 2\n",
    "menor_de_dois_pares (2,5) --> 5"
   ]
  },
  {
   "cell_type": "code",
   "execution_count": 4,
   "metadata": {},
   "outputs": [
    {
     "name": "stdout",
     "output_type": "stream",
     "text": [
      "2\n",
      "5\n"
     ]
    }
   ],
   "source": [
    "def menor_de_dois_pares(num1, num2):\n",
    "    if (num1 % 2) == 0 and (num2 % 2) == 0:\n",
    "        if num1 < num2:\n",
    "            return num1\n",
    "        else:\n",
    "            return num2\n",
    "    else:\n",
    "        if num1 > num2:\n",
    "            return num1\n",
    "        else:\n",
    "            return num2\n",
    "        \n",
    "print(menor_de_dois_pares(2, 4))\n",
    "print(menor_de_dois_pares(2, 5))"
   ]
  },
  {
   "cell_type": "markdown",
   "metadata": {},
   "source": [
    "2 Mesma letra: Escreva uma função que receba uma string com duas palavras e\n",
    "retorne True se ambas palavras começarem com a mesma letra. Exemplo:\n",
    "mesma_letra('Cão covarde') -> True\n",
    "mesma_letra('Vira Lata') -> False"
   ]
  },
  {
   "cell_type": "code",
   "execution_count": 28,
   "metadata": {},
   "outputs": [
    {
     "name": "stdout",
     "output_type": "stream",
     "text": [
      "True\n",
      "False\n"
     ]
    }
   ],
   "source": [
    "def mesma_letra(palavras):\n",
    "    separar = palavras.split()\n",
    "    \n",
    "#     print(palavras[0])\n",
    "#     print(separar[0][0])\n",
    "#     print(separar[1][0])\n",
    "#     print(separar[0].find('a'))\n",
    "    if separar[0][0].lower() == separar[1][0].lower():\n",
    "        return True\n",
    "    else:\n",
    "        return False\n",
    "\n",
    "print(mesma_letra('Cão covarde'))\n",
    "print(mesma_letra('Vira Lata'))"
   ]
  },
  {
   "cell_type": "markdown",
   "metadata": {},
   "source": [
    "3 Mestre Yoda: Dada uma sentença, a função deve retornar a sentença com as\n",
    "palavras na ordem reversa. Exemplo:\n",
    "mestre_yoda('Eu estou em casa') --> 'casa em estou Eu'\n",
    "mestre_yoda('Estamos prontos') --> 'prontos Estamos'"
   ]
  },
  {
   "cell_type": "code",
   "execution_count": 8,
   "metadata": {},
   "outputs": [
    {
     "name": "stdout",
     "output_type": "stream",
     "text": [
      "prontos Estamos \n",
      "casa em estou Eu \n"
     ]
    }
   ],
   "source": [
    "def mestre_yoda(sentenca):\n",
    "    separar = sentenca.split()\n",
    "    aux = separar[::-1]\n",
    "    mensagem = ''\n",
    "    \n",
    "    for i in range (len(aux)):\n",
    "        mensagem += str(aux[i]) + \" \"\n",
    "        \n",
    "    return mensagem\n",
    "\n",
    "print(mestre_yoda('Estamos prontos'))\n",
    "print(mestre_yoda('Eu estou em casa'))"
   ]
  },
  {
   "cell_type": "markdown",
   "metadata": {},
   "source": [
    "4 Tem 33: Faça uma função que retorne True se, dada uma lista de inteiros, houver\n",
    "em alguma posição da lista um 3 do lado de outro 3. Exemplo:\n",
    "<br>tem_33([1,3,3]) --> True\n",
    "<br>tem_33([1,3,1,3]) --> False\n",
    "<br>tem_33([3,1,3]) --> False"
   ]
  },
  {
   "cell_type": "code",
   "execution_count": 37,
   "metadata": {},
   "outputs": [
    {
     "name": "stdout",
     "output_type": "stream",
     "text": [
      "True\n",
      "False\n",
      "False\n"
     ]
    }
   ],
   "source": [
    "def tem_33(lista):\n",
    "    for i in range(len(lista)):\n",
    "        if i < (len(lista)-1):\n",
    "            if lista[i] == lista[i+1]:\n",
    "                return True\n",
    "    return False\n",
    "\n",
    "print(tem_33([1, 3, 3]))\n",
    "print(tem_33([1, 3, 1, 3]))\n",
    "print(tem_33([3, 1, 3]))"
   ]
  },
  {
   "cell_type": "markdown",
   "metadata": {},
   "source": [
    "5 Blackjack: Faça uma função que receba 3 inteiros entre 1 e 11. Se a soma deles for\n",
    "menor que 21, retorne o valor da soma. Se for mair do que 21 e houver um 11,\n",
    "subtraia 10 da soma antes de apresentar o resultado. Se o valor da soma passar de\n",
    "21, retorne ‘ESTOUROU’. Exemplo:\n",
    "<br>- blackjack(5,6,7) --> 18\n",
    "<br>- blackjack(9,9,9) --> 'ESTOUROU'\n",
    "<br>- blackjack(9,9,11) --> 19"
   ]
  },
  {
   "cell_type": "code",
   "execution_count": 47,
   "metadata": {},
   "outputs": [
    {
     "name": "stdout",
     "output_type": "stream",
     "text": [
      "18\n",
      "ESTOUROU\n",
      "19\n"
     ]
    }
   ],
   "source": [
    "def blackjack(int1, int2, int3):\n",
    "    soma = int1 + int2 + int3\n",
    "    if soma > 21:\n",
    "        if int1 == 11 or int2 == 11 or int3 == 11:\n",
    "            soma -= 10\n",
    "        else:\n",
    "            return 'ESTOUROU'\n",
    "    return soma\n",
    "\n",
    "print(blackjack(5, 6, 7))\n",
    "print(blackjack(9, 9, 9))\n",
    "print(blackjack(9, 9, 11))"
   ]
  },
  {
   "cell_type": "markdown",
   "metadata": {},
   "source": [
    "6 Espião: Escreva uma função que receba uma lista de\n",
    "inteiros e retorne True se contém um 007 em ordem, mesmo\n",
    "que não contínuo. Exemplo:\n",
    "<br>espiao([1,2,4,0,0,7,5]) --> True\n",
    "<br>espiao([1,0,2,4,0,5,7]) --> True\n",
    "<br>espiao([1,7,2,4,0,5,0]) --> False"
   ]
  },
  {
   "cell_type": "code",
   "execution_count": 56,
   "metadata": {},
   "outputs": [
    {
     "name": "stdout",
     "output_type": "stream",
     "text": [
      "True\n",
      "True\n",
      "False\n"
     ]
    }
   ],
   "source": [
    "def espiao(lista):\n",
    "    testar = ''\n",
    "    for i in range(len(lista)):\n",
    "        if testar != '007':\n",
    "            if lista[i] == 0:\n",
    "                testar += '0'\n",
    "            elif lista[i] == 7:\n",
    "                testar += '7'\n",
    "    if testar == '007':\n",
    "        return True\n",
    "    else:\n",
    "        return False\n",
    "        \n",
    "print(espiao([1,2,4,0,0,7,5])) \n",
    "print(espiao([1,0,2,4,0,7,0]))\n",
    "print(espiao([1,7,2,4,0,5,0]))"
   ]
  }
 ],
 "metadata": {
  "kernelspec": {
   "display_name": "Python 3",
   "language": "python",
   "name": "python3"
  },
  "language_info": {
   "codemirror_mode": {
    "name": "ipython",
    "version": 3
   },
   "file_extension": ".py",
   "mimetype": "text/x-python",
   "name": "python",
   "nbconvert_exporter": "python",
   "pygments_lexer": "ipython3",
   "version": "3.7.1"
  }
 },
 "nbformat": 4,
 "nbformat_minor": 2
}
